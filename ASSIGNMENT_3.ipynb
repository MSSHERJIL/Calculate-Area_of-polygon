{
  "nbformat": 4,
  "nbformat_minor": 0,
  "metadata": {
    "colab": {
      "provenance": []
    },
    "kernelspec": {
      "name": "python3",
      "display_name": "Python 3"
    },
    "language_info": {
      "name": "python"
    }
  },
  "cells": [
    {
      "cell_type": "code",
      "execution_count": 49,
      "metadata": {
        "colab": {
          "base_uri": "https://localhost:8080/"
        },
        "id": "_Itcep9JAP6O",
        "outputId": "9bbe0058-918f-4bb4-ab16-254b9812d2ae"
      },
      "outputs": [
        {
          "output_type": "stream",
          "name": "stdout",
          "text": [
            "enter numbers of side:9\n",
            "enter of length:9\n",
            "500.72775969560496\n"
          ]
        }
      ],
      "source": [
        "#TASK 1\n",
        "import math\n",
        "\n",
        "\n",
        "def area_polygon(n_sides, s_length):\n",
        "    return ( n_sides * s_length ** 2 ) / ( 4 * math.tan( math.pi/  n_sides ))\n",
        "\n",
        "n_sides= int(input('enter numbers of side:'))\n",
        "s_length= float(input('enter of length:'))\n",
        "area= area_polygon(n_sides,s_length)\n",
        "print(area)\n",
        "\n",
        "\n",
        "\n"
      ]
    }
  ]
}